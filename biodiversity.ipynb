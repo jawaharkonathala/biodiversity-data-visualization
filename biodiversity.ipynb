{
 "cells": [
  {
   "cell_type": "markdown",
   "metadata": {},
   "source": [
    "In this data science project, we start with considering the below points which are helpful in the scoping of the project.\n",
    "Step 0: Problem Understanding – What is the problem? Who does it impact and how much? How is it being solved today and what are some of the gaps?\n",
    "Step 1: Goals – What are the goals of the project? How will we know if our project is successful?\n",
    "Step 2: Actions – What actions or interventions will this work inform?\n",
    "Step 3: Data – What data do you have access to internally? What data do you need?\n",
    "What can you augment from external and/or public sources?\n",
    "Step 4: Analysis "
   ]
  },
  {
   "cell_type": "code",
   "execution_count": null,
   "metadata": {},
   "outputs": [],
   "source": []
  }
 ],
 "metadata": {
  "kernelspec": {
   "display_name": "Python 3 (ipykernel)",
   "language": "python",
   "name": "python3"
  },
  "language_info": {
   "codemirror_mode": {
    "name": "ipython",
    "version": 3
   },
   "file_extension": ".py",
   "mimetype": "text/x-python",
   "name": "python",
   "nbconvert_exporter": "python",
   "pygments_lexer": "ipython3",
   "version": "3.9.4"
  }
 },
 "nbformat": 4,
 "nbformat_minor": 4
}
